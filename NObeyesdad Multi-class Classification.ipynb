{
 "cells": [
  {
   "cell_type": "markdown",
   "id": "e392a2e1",
   "metadata": {},
   "source": [
    "## Importing Libraries"
   ]
  },
  {
   "cell_type": "code",
   "execution_count": 1,
   "id": "4d5fbcf7",
   "metadata": {},
   "outputs": [],
   "source": [
    "import pandas as pd\n",
    "import numpy as np\n",
    "import matplotlib.pyplot as plt\n",
    "import seaborn as sns"
   ]
  },
  {
   "cell_type": "markdown",
   "id": "2ff661ff",
   "metadata": {},
   "source": [
    "## Loading Dataset:"
   ]
  },
  {
   "cell_type": "code",
   "execution_count": 26,
   "id": "3ec676ca",
   "metadata": {},
   "outputs": [
    {
     "data": {
      "text/html": [
       "<div>\n",
       "<style scoped>\n",
       "    .dataframe tbody tr th:only-of-type {\n",
       "        vertical-align: middle;\n",
       "    }\n",
       "\n",
       "    .dataframe tbody tr th {\n",
       "        vertical-align: top;\n",
       "    }\n",
       "\n",
       "    .dataframe thead th {\n",
       "        text-align: right;\n",
       "    }\n",
       "</style>\n",
       "<table border=\"1\" class=\"dataframe\">\n",
       "  <thead>\n",
       "    <tr style=\"text-align: right;\">\n",
       "      <th></th>\n",
       "      <th>Age</th>\n",
       "      <th>Gender</th>\n",
       "      <th>Height</th>\n",
       "      <th>Weight</th>\n",
       "      <th>CALC</th>\n",
       "      <th>FAVC</th>\n",
       "      <th>FCVC</th>\n",
       "      <th>NCP</th>\n",
       "      <th>SCC</th>\n",
       "      <th>SMOKE</th>\n",
       "      <th>CH2O</th>\n",
       "      <th>family_history_with_overweight</th>\n",
       "      <th>FAF</th>\n",
       "      <th>TUE</th>\n",
       "      <th>CAEC</th>\n",
       "      <th>MTRANS</th>\n",
       "      <th>NObeyesdad</th>\n",
       "    </tr>\n",
       "  </thead>\n",
       "  <tbody>\n",
       "    <tr>\n",
       "      <th>0</th>\n",
       "      <td>21.0</td>\n",
       "      <td>Female</td>\n",
       "      <td>1.62</td>\n",
       "      <td>64.0</td>\n",
       "      <td>no</td>\n",
       "      <td>no</td>\n",
       "      <td>2.0</td>\n",
       "      <td>3.0</td>\n",
       "      <td>no</td>\n",
       "      <td>no</td>\n",
       "      <td>2.0</td>\n",
       "      <td>yes</td>\n",
       "      <td>0.0</td>\n",
       "      <td>1.0</td>\n",
       "      <td>Sometimes</td>\n",
       "      <td>Public_Transportation</td>\n",
       "      <td>Normal_Weight</td>\n",
       "    </tr>\n",
       "    <tr>\n",
       "      <th>1</th>\n",
       "      <td>21.0</td>\n",
       "      <td>Female</td>\n",
       "      <td>1.52</td>\n",
       "      <td>56.0</td>\n",
       "      <td>Sometimes</td>\n",
       "      <td>no</td>\n",
       "      <td>3.0</td>\n",
       "      <td>3.0</td>\n",
       "      <td>yes</td>\n",
       "      <td>yes</td>\n",
       "      <td>3.0</td>\n",
       "      <td>yes</td>\n",
       "      <td>3.0</td>\n",
       "      <td>0.0</td>\n",
       "      <td>Sometimes</td>\n",
       "      <td>Public_Transportation</td>\n",
       "      <td>Normal_Weight</td>\n",
       "    </tr>\n",
       "    <tr>\n",
       "      <th>2</th>\n",
       "      <td>23.0</td>\n",
       "      <td>Male</td>\n",
       "      <td>1.80</td>\n",
       "      <td>77.0</td>\n",
       "      <td>Frequently</td>\n",
       "      <td>no</td>\n",
       "      <td>2.0</td>\n",
       "      <td>3.0</td>\n",
       "      <td>no</td>\n",
       "      <td>no</td>\n",
       "      <td>2.0</td>\n",
       "      <td>yes</td>\n",
       "      <td>2.0</td>\n",
       "      <td>1.0</td>\n",
       "      <td>Sometimes</td>\n",
       "      <td>Public_Transportation</td>\n",
       "      <td>Normal_Weight</td>\n",
       "    </tr>\n",
       "    <tr>\n",
       "      <th>3</th>\n",
       "      <td>27.0</td>\n",
       "      <td>Male</td>\n",
       "      <td>1.80</td>\n",
       "      <td>87.0</td>\n",
       "      <td>Frequently</td>\n",
       "      <td>no</td>\n",
       "      <td>3.0</td>\n",
       "      <td>3.0</td>\n",
       "      <td>no</td>\n",
       "      <td>no</td>\n",
       "      <td>2.0</td>\n",
       "      <td>no</td>\n",
       "      <td>2.0</td>\n",
       "      <td>0.0</td>\n",
       "      <td>Sometimes</td>\n",
       "      <td>Walking</td>\n",
       "      <td>Overweight_Level_I</td>\n",
       "    </tr>\n",
       "    <tr>\n",
       "      <th>4</th>\n",
       "      <td>22.0</td>\n",
       "      <td>Male</td>\n",
       "      <td>1.78</td>\n",
       "      <td>89.8</td>\n",
       "      <td>Sometimes</td>\n",
       "      <td>no</td>\n",
       "      <td>2.0</td>\n",
       "      <td>1.0</td>\n",
       "      <td>no</td>\n",
       "      <td>no</td>\n",
       "      <td>2.0</td>\n",
       "      <td>no</td>\n",
       "      <td>0.0</td>\n",
       "      <td>0.0</td>\n",
       "      <td>Sometimes</td>\n",
       "      <td>Public_Transportation</td>\n",
       "      <td>Overweight_Level_II</td>\n",
       "    </tr>\n",
       "  </tbody>\n",
       "</table>\n",
       "</div>"
      ],
      "text/plain": [
       "    Age  Gender  Height  Weight        CALC FAVC  FCVC  NCP  SCC SMOKE  CH2O  \\\n",
       "0  21.0  Female    1.62    64.0          no   no   2.0  3.0   no    no   2.0   \n",
       "1  21.0  Female    1.52    56.0   Sometimes   no   3.0  3.0  yes   yes   3.0   \n",
       "2  23.0    Male    1.80    77.0  Frequently   no   2.0  3.0   no    no   2.0   \n",
       "3  27.0    Male    1.80    87.0  Frequently   no   3.0  3.0   no    no   2.0   \n",
       "4  22.0    Male    1.78    89.8   Sometimes   no   2.0  1.0   no    no   2.0   \n",
       "\n",
       "  family_history_with_overweight  FAF  TUE       CAEC                 MTRANS  \\\n",
       "0                            yes  0.0  1.0  Sometimes  Public_Transportation   \n",
       "1                            yes  3.0  0.0  Sometimes  Public_Transportation   \n",
       "2                            yes  2.0  1.0  Sometimes  Public_Transportation   \n",
       "3                             no  2.0  0.0  Sometimes                Walking   \n",
       "4                             no  0.0  0.0  Sometimes  Public_Transportation   \n",
       "\n",
       "            NObeyesdad  \n",
       "0        Normal_Weight  \n",
       "1        Normal_Weight  \n",
       "2        Normal_Weight  \n",
       "3   Overweight_Level_I  \n",
       "4  Overweight_Level_II  "
      ]
     },
     "execution_count": 26,
     "metadata": {},
     "output_type": "execute_result"
    }
   ],
   "source": [
    "df = pd.read_csv(r'C:\\Users\\ASAD COMPUTERS\\Desktop\\Data Science\\AtomCamp\\M4\\ML Class Activity 3\\ObesityDataSet_raw_and_data_sinthetic.csv')\n",
    "df.head()"
   ]
  },
  {
   "cell_type": "markdown",
   "id": "5b4c473c",
   "metadata": {},
   "source": [
    "## General Information:"
   ]
  },
  {
   "cell_type": "code",
   "execution_count": 5,
   "id": "3c8a0405",
   "metadata": {},
   "outputs": [
    {
     "data": {
      "text/html": [
       "<div>\n",
       "<style scoped>\n",
       "    .dataframe tbody tr th:only-of-type {\n",
       "        vertical-align: middle;\n",
       "    }\n",
       "\n",
       "    .dataframe tbody tr th {\n",
       "        vertical-align: top;\n",
       "    }\n",
       "\n",
       "    .dataframe thead th {\n",
       "        text-align: right;\n",
       "    }\n",
       "</style>\n",
       "<table border=\"1\" class=\"dataframe\">\n",
       "  <thead>\n",
       "    <tr style=\"text-align: right;\">\n",
       "      <th></th>\n",
       "      <th>Age</th>\n",
       "      <th>Gender</th>\n",
       "      <th>Height</th>\n",
       "      <th>Weight</th>\n",
       "      <th>CALC</th>\n",
       "      <th>FAVC</th>\n",
       "      <th>FCVC</th>\n",
       "      <th>NCP</th>\n",
       "      <th>SCC</th>\n",
       "      <th>SMOKE</th>\n",
       "      <th>CH2O</th>\n",
       "      <th>family_history_with_overweight</th>\n",
       "      <th>FAF</th>\n",
       "      <th>TUE</th>\n",
       "      <th>CAEC</th>\n",
       "      <th>MTRANS</th>\n",
       "      <th>NObeyesdad</th>\n",
       "    </tr>\n",
       "  </thead>\n",
       "  <tbody>\n",
       "    <tr>\n",
       "      <th>2106</th>\n",
       "      <td>20.976842</td>\n",
       "      <td>Female</td>\n",
       "      <td>1.710730</td>\n",
       "      <td>131.408528</td>\n",
       "      <td>Sometimes</td>\n",
       "      <td>yes</td>\n",
       "      <td>3.0</td>\n",
       "      <td>3.0</td>\n",
       "      <td>no</td>\n",
       "      <td>no</td>\n",
       "      <td>1.728139</td>\n",
       "      <td>yes</td>\n",
       "      <td>1.676269</td>\n",
       "      <td>0.906247</td>\n",
       "      <td>Sometimes</td>\n",
       "      <td>Public_Transportation</td>\n",
       "      <td>Obesity_Type_III</td>\n",
       "    </tr>\n",
       "    <tr>\n",
       "      <th>2107</th>\n",
       "      <td>21.982942</td>\n",
       "      <td>Female</td>\n",
       "      <td>1.748584</td>\n",
       "      <td>133.742943</td>\n",
       "      <td>Sometimes</td>\n",
       "      <td>yes</td>\n",
       "      <td>3.0</td>\n",
       "      <td>3.0</td>\n",
       "      <td>no</td>\n",
       "      <td>no</td>\n",
       "      <td>2.005130</td>\n",
       "      <td>yes</td>\n",
       "      <td>1.341390</td>\n",
       "      <td>0.599270</td>\n",
       "      <td>Sometimes</td>\n",
       "      <td>Public_Transportation</td>\n",
       "      <td>Obesity_Type_III</td>\n",
       "    </tr>\n",
       "    <tr>\n",
       "      <th>2108</th>\n",
       "      <td>22.524036</td>\n",
       "      <td>Female</td>\n",
       "      <td>1.752206</td>\n",
       "      <td>133.689352</td>\n",
       "      <td>Sometimes</td>\n",
       "      <td>yes</td>\n",
       "      <td>3.0</td>\n",
       "      <td>3.0</td>\n",
       "      <td>no</td>\n",
       "      <td>no</td>\n",
       "      <td>2.054193</td>\n",
       "      <td>yes</td>\n",
       "      <td>1.414209</td>\n",
       "      <td>0.646288</td>\n",
       "      <td>Sometimes</td>\n",
       "      <td>Public_Transportation</td>\n",
       "      <td>Obesity_Type_III</td>\n",
       "    </tr>\n",
       "    <tr>\n",
       "      <th>2109</th>\n",
       "      <td>24.361936</td>\n",
       "      <td>Female</td>\n",
       "      <td>1.739450</td>\n",
       "      <td>133.346641</td>\n",
       "      <td>Sometimes</td>\n",
       "      <td>yes</td>\n",
       "      <td>3.0</td>\n",
       "      <td>3.0</td>\n",
       "      <td>no</td>\n",
       "      <td>no</td>\n",
       "      <td>2.852339</td>\n",
       "      <td>yes</td>\n",
       "      <td>1.139107</td>\n",
       "      <td>0.586035</td>\n",
       "      <td>Sometimes</td>\n",
       "      <td>Public_Transportation</td>\n",
       "      <td>Obesity_Type_III</td>\n",
       "    </tr>\n",
       "    <tr>\n",
       "      <th>2110</th>\n",
       "      <td>23.664709</td>\n",
       "      <td>Female</td>\n",
       "      <td>1.738836</td>\n",
       "      <td>133.472641</td>\n",
       "      <td>Sometimes</td>\n",
       "      <td>yes</td>\n",
       "      <td>3.0</td>\n",
       "      <td>3.0</td>\n",
       "      <td>no</td>\n",
       "      <td>no</td>\n",
       "      <td>2.863513</td>\n",
       "      <td>yes</td>\n",
       "      <td>1.026452</td>\n",
       "      <td>0.714137</td>\n",
       "      <td>Sometimes</td>\n",
       "      <td>Public_Transportation</td>\n",
       "      <td>Obesity_Type_III</td>\n",
       "    </tr>\n",
       "  </tbody>\n",
       "</table>\n",
       "</div>"
      ],
      "text/plain": [
       "            Age  Gender    Height      Weight       CALC FAVC  FCVC  NCP SCC  \\\n",
       "2106  20.976842  Female  1.710730  131.408528  Sometimes  yes   3.0  3.0  no   \n",
       "2107  21.982942  Female  1.748584  133.742943  Sometimes  yes   3.0  3.0  no   \n",
       "2108  22.524036  Female  1.752206  133.689352  Sometimes  yes   3.0  3.0  no   \n",
       "2109  24.361936  Female  1.739450  133.346641  Sometimes  yes   3.0  3.0  no   \n",
       "2110  23.664709  Female  1.738836  133.472641  Sometimes  yes   3.0  3.0  no   \n",
       "\n",
       "     SMOKE      CH2O family_history_with_overweight       FAF       TUE  \\\n",
       "2106    no  1.728139                            yes  1.676269  0.906247   \n",
       "2107    no  2.005130                            yes  1.341390  0.599270   \n",
       "2108    no  2.054193                            yes  1.414209  0.646288   \n",
       "2109    no  2.852339                            yes  1.139107  0.586035   \n",
       "2110    no  2.863513                            yes  1.026452  0.714137   \n",
       "\n",
       "           CAEC                 MTRANS        NObeyesdad  \n",
       "2106  Sometimes  Public_Transportation  Obesity_Type_III  \n",
       "2107  Sometimes  Public_Transportation  Obesity_Type_III  \n",
       "2108  Sometimes  Public_Transportation  Obesity_Type_III  \n",
       "2109  Sometimes  Public_Transportation  Obesity_Type_III  \n",
       "2110  Sometimes  Public_Transportation  Obesity_Type_III  "
      ]
     },
     "execution_count": 5,
     "metadata": {},
     "output_type": "execute_result"
    }
   ],
   "source": [
    "df.tail()"
   ]
  },
  {
   "cell_type": "code",
   "execution_count": 6,
   "id": "16826a4e",
   "metadata": {},
   "outputs": [
    {
     "data": {
      "text/plain": [
       "(2111, 17)"
      ]
     },
     "execution_count": 6,
     "metadata": {},
     "output_type": "execute_result"
    }
   ],
   "source": [
    "df.shape"
   ]
  },
  {
   "cell_type": "code",
   "execution_count": 7,
   "id": "ac13608f",
   "metadata": {},
   "outputs": [
    {
     "data": {
      "text/plain": [
       "35887"
      ]
     },
     "execution_count": 7,
     "metadata": {},
     "output_type": "execute_result"
    }
   ],
   "source": [
    "df.size"
   ]
  },
  {
   "cell_type": "code",
   "execution_count": 10,
   "id": "8617f059",
   "metadata": {},
   "outputs": [
    {
     "data": {
      "text/plain": [
       "Index(['Age', 'Gender', 'Height', 'Weight', 'CALC', 'FAVC', 'FCVC', 'NCP',\n",
       "       'SCC', 'SMOKE', 'CH2O', 'family_history_with_overweight', 'FAF', 'TUE',\n",
       "       'CAEC', 'MTRANS', 'NObeyesdad'],\n",
       "      dtype='object')"
      ]
     },
     "execution_count": 10,
     "metadata": {},
     "output_type": "execute_result"
    }
   ],
   "source": [
    "df.columns"
   ]
  },
  {
   "cell_type": "markdown",
   "id": "be4f48c6",
   "metadata": {},
   "source": [
    "#### To check data types:"
   ]
  },
  {
   "cell_type": "code",
   "execution_count": 11,
   "id": "5a473e2c",
   "metadata": {},
   "outputs": [
    {
     "data": {
      "text/plain": [
       "Age                               float64\n",
       "Gender                             object\n",
       "Height                            float64\n",
       "Weight                            float64\n",
       "CALC                               object\n",
       "FAVC                               object\n",
       "FCVC                              float64\n",
       "NCP                               float64\n",
       "SCC                                object\n",
       "SMOKE                              object\n",
       "CH2O                              float64\n",
       "family_history_with_overweight     object\n",
       "FAF                               float64\n",
       "TUE                               float64\n",
       "CAEC                               object\n",
       "MTRANS                             object\n",
       "NObeyesdad                         object\n",
       "dtype: object"
      ]
     },
     "execution_count": 11,
     "metadata": {},
     "output_type": "execute_result"
    }
   ],
   "source": [
    "df.dtypes"
   ]
  },
  {
   "cell_type": "markdown",
   "id": "605f5bdb",
   "metadata": {},
   "source": [
    "#### To check general information:"
   ]
  },
  {
   "cell_type": "code",
   "execution_count": 9,
   "id": "6a970bd4",
   "metadata": {},
   "outputs": [
    {
     "name": "stdout",
     "output_type": "stream",
     "text": [
      "<class 'pandas.core.frame.DataFrame'>\n",
      "RangeIndex: 2111 entries, 0 to 2110\n",
      "Data columns (total 17 columns):\n",
      " #   Column                          Non-Null Count  Dtype  \n",
      "---  ------                          --------------  -----  \n",
      " 0   Age                             2111 non-null   float64\n",
      " 1   Gender                          2111 non-null   object \n",
      " 2   Height                          2111 non-null   float64\n",
      " 3   Weight                          2111 non-null   float64\n",
      " 4   CALC                            2111 non-null   object \n",
      " 5   FAVC                            2111 non-null   object \n",
      " 6   FCVC                            2111 non-null   float64\n",
      " 7   NCP                             2111 non-null   float64\n",
      " 8   SCC                             2111 non-null   object \n",
      " 9   SMOKE                           2111 non-null   object \n",
      " 10  CH2O                            2111 non-null   float64\n",
      " 11  family_history_with_overweight  2111 non-null   object \n",
      " 12  FAF                             2111 non-null   float64\n",
      " 13  TUE                             2111 non-null   float64\n",
      " 14  CAEC                            2111 non-null   object \n",
      " 15  MTRANS                          2111 non-null   object \n",
      " 16  NObeyesdad                      2111 non-null   object \n",
      "dtypes: float64(8), object(9)\n",
      "memory usage: 280.5+ KB\n"
     ]
    }
   ],
   "source": [
    "df.info()"
   ]
  },
  {
   "cell_type": "markdown",
   "id": "b3980d3e",
   "metadata": {},
   "source": [
    "#### To check Statistical Information:"
   ]
  },
  {
   "cell_type": "code",
   "execution_count": 12,
   "id": "280d0a2b",
   "metadata": {},
   "outputs": [
    {
     "data": {
      "text/html": [
       "<div>\n",
       "<style scoped>\n",
       "    .dataframe tbody tr th:only-of-type {\n",
       "        vertical-align: middle;\n",
       "    }\n",
       "\n",
       "    .dataframe tbody tr th {\n",
       "        vertical-align: top;\n",
       "    }\n",
       "\n",
       "    .dataframe thead th {\n",
       "        text-align: right;\n",
       "    }\n",
       "</style>\n",
       "<table border=\"1\" class=\"dataframe\">\n",
       "  <thead>\n",
       "    <tr style=\"text-align: right;\">\n",
       "      <th></th>\n",
       "      <th>Age</th>\n",
       "      <th>Height</th>\n",
       "      <th>Weight</th>\n",
       "      <th>FCVC</th>\n",
       "      <th>NCP</th>\n",
       "      <th>CH2O</th>\n",
       "      <th>FAF</th>\n",
       "      <th>TUE</th>\n",
       "    </tr>\n",
       "  </thead>\n",
       "  <tbody>\n",
       "    <tr>\n",
       "      <th>count</th>\n",
       "      <td>2111.000000</td>\n",
       "      <td>2111.000000</td>\n",
       "      <td>2111.000000</td>\n",
       "      <td>2111.000000</td>\n",
       "      <td>2111.000000</td>\n",
       "      <td>2111.000000</td>\n",
       "      <td>2111.000000</td>\n",
       "      <td>2111.000000</td>\n",
       "    </tr>\n",
       "    <tr>\n",
       "      <th>mean</th>\n",
       "      <td>24.312600</td>\n",
       "      <td>1.701677</td>\n",
       "      <td>86.586058</td>\n",
       "      <td>2.419043</td>\n",
       "      <td>2.685628</td>\n",
       "      <td>2.008011</td>\n",
       "      <td>1.010298</td>\n",
       "      <td>0.657866</td>\n",
       "    </tr>\n",
       "    <tr>\n",
       "      <th>std</th>\n",
       "      <td>6.345968</td>\n",
       "      <td>0.093305</td>\n",
       "      <td>26.191172</td>\n",
       "      <td>0.533927</td>\n",
       "      <td>0.778039</td>\n",
       "      <td>0.612953</td>\n",
       "      <td>0.850592</td>\n",
       "      <td>0.608927</td>\n",
       "    </tr>\n",
       "    <tr>\n",
       "      <th>min</th>\n",
       "      <td>14.000000</td>\n",
       "      <td>1.450000</td>\n",
       "      <td>39.000000</td>\n",
       "      <td>1.000000</td>\n",
       "      <td>1.000000</td>\n",
       "      <td>1.000000</td>\n",
       "      <td>0.000000</td>\n",
       "      <td>0.000000</td>\n",
       "    </tr>\n",
       "    <tr>\n",
       "      <th>25%</th>\n",
       "      <td>19.947192</td>\n",
       "      <td>1.630000</td>\n",
       "      <td>65.473343</td>\n",
       "      <td>2.000000</td>\n",
       "      <td>2.658738</td>\n",
       "      <td>1.584812</td>\n",
       "      <td>0.124505</td>\n",
       "      <td>0.000000</td>\n",
       "    </tr>\n",
       "    <tr>\n",
       "      <th>50%</th>\n",
       "      <td>22.777890</td>\n",
       "      <td>1.700499</td>\n",
       "      <td>83.000000</td>\n",
       "      <td>2.385502</td>\n",
       "      <td>3.000000</td>\n",
       "      <td>2.000000</td>\n",
       "      <td>1.000000</td>\n",
       "      <td>0.625350</td>\n",
       "    </tr>\n",
       "    <tr>\n",
       "      <th>75%</th>\n",
       "      <td>26.000000</td>\n",
       "      <td>1.768464</td>\n",
       "      <td>107.430682</td>\n",
       "      <td>3.000000</td>\n",
       "      <td>3.000000</td>\n",
       "      <td>2.477420</td>\n",
       "      <td>1.666678</td>\n",
       "      <td>1.000000</td>\n",
       "    </tr>\n",
       "    <tr>\n",
       "      <th>max</th>\n",
       "      <td>61.000000</td>\n",
       "      <td>1.980000</td>\n",
       "      <td>173.000000</td>\n",
       "      <td>3.000000</td>\n",
       "      <td>4.000000</td>\n",
       "      <td>3.000000</td>\n",
       "      <td>3.000000</td>\n",
       "      <td>2.000000</td>\n",
       "    </tr>\n",
       "  </tbody>\n",
       "</table>\n",
       "</div>"
      ],
      "text/plain": [
       "               Age       Height       Weight         FCVC          NCP  \\\n",
       "count  2111.000000  2111.000000  2111.000000  2111.000000  2111.000000   \n",
       "mean     24.312600     1.701677    86.586058     2.419043     2.685628   \n",
       "std       6.345968     0.093305    26.191172     0.533927     0.778039   \n",
       "min      14.000000     1.450000    39.000000     1.000000     1.000000   \n",
       "25%      19.947192     1.630000    65.473343     2.000000     2.658738   \n",
       "50%      22.777890     1.700499    83.000000     2.385502     3.000000   \n",
       "75%      26.000000     1.768464   107.430682     3.000000     3.000000   \n",
       "max      61.000000     1.980000   173.000000     3.000000     4.000000   \n",
       "\n",
       "              CH2O          FAF          TUE  \n",
       "count  2111.000000  2111.000000  2111.000000  \n",
       "mean      2.008011     1.010298     0.657866  \n",
       "std       0.612953     0.850592     0.608927  \n",
       "min       1.000000     0.000000     0.000000  \n",
       "25%       1.584812     0.124505     0.000000  \n",
       "50%       2.000000     1.000000     0.625350  \n",
       "75%       2.477420     1.666678     1.000000  \n",
       "max       3.000000     3.000000     2.000000  "
      ]
     },
     "execution_count": 12,
     "metadata": {},
     "output_type": "execute_result"
    }
   ],
   "source": [
    "df.describe()"
   ]
  },
  {
   "cell_type": "markdown",
   "id": "317c1f72",
   "metadata": {},
   "source": [
    "## Missing Values:"
   ]
  },
  {
   "cell_type": "code",
   "execution_count": 13,
   "id": "a2bfc56e",
   "metadata": {},
   "outputs": [
    {
     "data": {
      "text/plain": [
       "Age                               0\n",
       "Gender                            0\n",
       "Height                            0\n",
       "Weight                            0\n",
       "CALC                              0\n",
       "FAVC                              0\n",
       "FCVC                              0\n",
       "NCP                               0\n",
       "SCC                               0\n",
       "SMOKE                             0\n",
       "CH2O                              0\n",
       "family_history_with_overweight    0\n",
       "FAF                               0\n",
       "TUE                               0\n",
       "CAEC                              0\n",
       "MTRANS                            0\n",
       "NObeyesdad                        0\n",
       "dtype: int64"
      ]
     },
     "execution_count": 13,
     "metadata": {},
     "output_type": "execute_result"
    }
   ],
   "source": [
    "df.isna().sum()"
   ]
  },
  {
   "cell_type": "markdown",
   "id": "45d78b8a",
   "metadata": {},
   "source": [
    "## Duplicate Values:"
   ]
  },
  {
   "cell_type": "code",
   "execution_count": 15,
   "id": "bf9549f8",
   "metadata": {},
   "outputs": [
    {
     "data": {
      "text/plain": [
       "24"
      ]
     },
     "execution_count": 15,
     "metadata": {},
     "output_type": "execute_result"
    }
   ],
   "source": [
    "df.duplicated().sum()"
   ]
  },
  {
   "cell_type": "code",
   "execution_count": 84,
   "id": "4c6990bb",
   "metadata": {},
   "outputs": [
    {
     "data": {
      "text/html": [
       "<div>\n",
       "<style scoped>\n",
       "    .dataframe tbody tr th:only-of-type {\n",
       "        vertical-align: middle;\n",
       "    }\n",
       "\n",
       "    .dataframe tbody tr th {\n",
       "        vertical-align: top;\n",
       "    }\n",
       "\n",
       "    .dataframe thead th {\n",
       "        text-align: right;\n",
       "    }\n",
       "</style>\n",
       "<table border=\"1\" class=\"dataframe\">\n",
       "  <thead>\n",
       "    <tr style=\"text-align: right;\">\n",
       "      <th></th>\n",
       "      <th>Age</th>\n",
       "      <th>Gender</th>\n",
       "      <th>Height</th>\n",
       "      <th>Weight</th>\n",
       "      <th>CALC</th>\n",
       "      <th>FAVC</th>\n",
       "      <th>FCVC</th>\n",
       "      <th>NCP</th>\n",
       "      <th>SCC</th>\n",
       "      <th>SMOKE</th>\n",
       "      <th>CH2O</th>\n",
       "      <th>family_history_with_overweight</th>\n",
       "      <th>FAF</th>\n",
       "      <th>TUE</th>\n",
       "      <th>CAEC</th>\n",
       "      <th>MTRANS</th>\n",
       "      <th>NObeyesdad</th>\n",
       "    </tr>\n",
       "  </thead>\n",
       "  <tbody>\n",
       "    <tr>\n",
       "      <th>0</th>\n",
       "      <td>21.0</td>\n",
       "      <td>Female</td>\n",
       "      <td>1.62</td>\n",
       "      <td>64.0</td>\n",
       "      <td>no</td>\n",
       "      <td>no</td>\n",
       "      <td>2.0</td>\n",
       "      <td>3.0</td>\n",
       "      <td>no</td>\n",
       "      <td>no</td>\n",
       "      <td>2.0</td>\n",
       "      <td>yes</td>\n",
       "      <td>0.0</td>\n",
       "      <td>1.0</td>\n",
       "      <td>Sometimes</td>\n",
       "      <td>Public_Transportation</td>\n",
       "      <td>Normal_Weight</td>\n",
       "    </tr>\n",
       "    <tr>\n",
       "      <th>1</th>\n",
       "      <td>21.0</td>\n",
       "      <td>Female</td>\n",
       "      <td>1.52</td>\n",
       "      <td>56.0</td>\n",
       "      <td>Sometimes</td>\n",
       "      <td>no</td>\n",
       "      <td>3.0</td>\n",
       "      <td>3.0</td>\n",
       "      <td>yes</td>\n",
       "      <td>yes</td>\n",
       "      <td>3.0</td>\n",
       "      <td>yes</td>\n",
       "      <td>3.0</td>\n",
       "      <td>0.0</td>\n",
       "      <td>Sometimes</td>\n",
       "      <td>Public_Transportation</td>\n",
       "      <td>Normal_Weight</td>\n",
       "    </tr>\n",
       "  </tbody>\n",
       "</table>\n",
       "</div>"
      ],
      "text/plain": [
       "    Age  Gender  Height  Weight       CALC FAVC  FCVC  NCP  SCC SMOKE  CH2O  \\\n",
       "0  21.0  Female    1.62    64.0         no   no   2.0  3.0   no    no   2.0   \n",
       "1  21.0  Female    1.52    56.0  Sometimes   no   3.0  3.0  yes   yes   3.0   \n",
       "\n",
       "  family_history_with_overweight  FAF  TUE       CAEC                 MTRANS  \\\n",
       "0                            yes  0.0  1.0  Sometimes  Public_Transportation   \n",
       "1                            yes  3.0  0.0  Sometimes  Public_Transportation   \n",
       "\n",
       "      NObeyesdad  \n",
       "0  Normal_Weight  \n",
       "1  Normal_Weight  "
      ]
     },
     "execution_count": 84,
     "metadata": {},
     "output_type": "execute_result"
    }
   ],
   "source": [
    "df1 = df.copy()\n",
    "df1.head(2)"
   ]
  },
  {
   "cell_type": "markdown",
   "id": "f893e632",
   "metadata": {},
   "source": [
    "## Handling Data Type Inconsistencies:"
   ]
  },
  {
   "cell_type": "code",
   "execution_count": 30,
   "id": "7603a220",
   "metadata": {},
   "outputs": [
    {
     "data": {
      "text/plain": [
       "Age                               float64\n",
       "Gender                             object\n",
       "Height                            float64\n",
       "Weight                            float64\n",
       "CALC                               object\n",
       "FAVC                               object\n",
       "FCVC                              float64\n",
       "NCP                               float64\n",
       "SCC                                object\n",
       "SMOKE                              object\n",
       "CH2O                              float64\n",
       "family_history_with_overweight     object\n",
       "FAF                               float64\n",
       "TUE                               float64\n",
       "CAEC                               object\n",
       "MTRANS                             object\n",
       "NObeyesdad                         object\n",
       "dtype: object"
      ]
     },
     "execution_count": 30,
     "metadata": {},
     "output_type": "execute_result"
    }
   ],
   "source": [
    "df.dtypes"
   ]
  },
  {
   "cell_type": "markdown",
   "id": "8a12766b",
   "metadata": {},
   "source": [
    "#### For 'Height', & 'Weight':"
   ]
  },
  {
   "cell_type": "code",
   "execution_count": 33,
   "id": "ab027216",
   "metadata": {},
   "outputs": [],
   "source": [
    "float_cols = ['Height', 'Weight','Age']\n",
    "df1[float_cols] = df1[float_cols].round(2)"
   ]
  },
  {
   "cell_type": "markdown",
   "id": "00e15996",
   "metadata": {},
   "source": [
    "## Data Analysis using EDA"
   ]
  },
  {
   "cell_type": "markdown",
   "id": "d0688039",
   "metadata": {},
   "source": [
    "Step 2: EDA, for this you need to answer the following questions. Use the best visual for each of\n",
    "the following questions.\n",
    "1. Height and Weight Distribution\n",
    "2. Top 10 Ages with Highest Weight\n",
    "3. Distribution of CAEC values\n",
    "4. Average Ages with Family History with Overweight\n",
    "5. Correlation matrix"
   ]
  },
  {
   "cell_type": "markdown",
   "id": "adf4ce0a",
   "metadata": {},
   "source": [
    "#### Height and Weight Distribution:"
   ]
  },
  {
   "cell_type": "code",
   "execution_count": 48,
   "id": "74ab1b0f",
   "metadata": {},
   "outputs": [
    {
     "data": {
      "image/png": "[encoded data removed]",
      "text/plain": [
       "<Figure size 800x600 with 1 Axes>"
      ]
     },
     "metadata": {},
     "output_type": "display_data"
    }
   ],
   "source": [
    "plt.figure(figsize=(8,6))\n",
    "sns.histplot(df1['Height'],bins=30,kde=True)\n",
    "plt.title('Distribution of Height')\n",
    "plt.xlabel('Height')\n",
    "plt.ylabel('Frequency')\n",
    "plt.show()"
   ]
  },
  {
   "cell_type": "code",
   "execution_count": 49,
   "id": "8cb8396d",
   "metadata": {},
   "outputs": [
    {
     "data": {
      "image/png": "[encoded data removed]",
      "text/plain": [
       "<Figure size 800x600 with 1 Axes>"
      ]
     },
     "metadata": {},
     "output_type": "display_data"
    }
   ],
   "source": [
    "plt.figure(figsize=(8,6))\n",
    "sns.histplot(df1['Weight'],bins=30,kde=True)\n",
    "plt.title('Distribution of Weight')\n",
    "plt.xlabel('Weight')\n",
    "plt.ylabel('Frequency')\n",
    "plt.show()"
   ]
  },
  {
   "cell_type": "markdown",
   "id": "b1d33c74",
   "metadata": {},
   "source": [
    "#### ii. Top 10 Ages with Highest Weight:"
   ]
  },
  {
   "cell_type": "code",
   "execution_count": 58,
   "id": "0ca2eafe",
   "metadata": {},
   "outputs": [
    {
     "data": {
      "image/png": "[encoded data removed]",
      "text/plain": [
       "<Figure size 800x600 with 1 Axes>"
      ]
     },
     "metadata": {},
     "output_type": "display_data"
    }
   ],
   "source": [
    "toptenages = df1.groupby(['Age'])['Weight'].mean().sort_values(ascending=False)\n",
    "# for top 10 ages with highest weight\n",
    "toptenages_ = toptenages.head(10)\n",
    "# Plotting the bar chart:\n",
    "plt.figure(figsize=(8,6))\n",
    "plt.bar(toptenages_.index,toptenages_.values,color='green')\n",
    "plt.xlabel('Age')\n",
    "plt.ylabel('Weight')\n",
    "plt.tight_layout()\n",
    "plt.show()"
   ]
  },
  {
   "cell_type": "markdown",
   "id": "368ff600",
   "metadata": {},
   "source": [
    "#### Distribution of CAEC values:"
   ]
  },
  {
   "cell_type": "code",
   "execution_count": 57,
   "id": "42db1d69",
   "metadata": {},
   "outputs": [
    {
     "data": {
      "image/png": "[encoded data removed]",
      "text/plain": [
       "<Figure size 800x600 with 1 Axes>"
      ]
     },
     "metadata": {},
     "output_type": "display_data"
    }
   ],
   "source": [
    "plt.figure(figsize=(8,6))\n",
    "sns.histplot(df1['CAEC'])\n",
    "plt.title('Distribution of CAEC')\n",
    "plt.xlabel('CAEC')\n",
    "plt.ylabel('Frequency')\n",
    "plt.tight_layout()\n",
    "plt.show()"
   ]
  },
  {
   "cell_type": "markdown",
   "id": "02196921",
   "metadata": {},
   "source": [
    "#### Average Ages with Family History with Overweight:"
   ]
  },
  {
   "cell_type": "code",
   "execution_count": 59,
   "id": "51e5d22e",
   "metadata": {},
   "outputs": [
    {
     "data": {
      "image/png": "[encoded data removed]",
      "text/plain": [
       "<Figure size 800x600 with 1 Axes>"
      ]
     },
     "metadata": {},
     "output_type": "display_data"
    }
   ],
   "source": [
    "avgagewithfamily = df1.groupby(['family_history_with_overweight'])['Age'].mean().sort_values(ascending=False)\n",
    "# for top 20 avg ages\n",
    "avgagewithfamily_top20 = avgagewithfamily.head(20)\n",
    "# to plot the bar chart\n",
    "plt.figure(figsize=(8,6))\n",
    "plt.bar(avgagewithfamily_top20.index,avgagewithfamily_top20.values,color='purple')\n",
    "plt.title('Average Ages with Family History with Overweight')\n",
    "plt.xlabel('Family History with Over Weight')\n",
    "plt.ylabel('Avg Age')\n",
    "plt.show()"
   ]
  },
  {
   "cell_type": "markdown",
   "id": "22cbda87",
   "metadata": {},
   "source": [
    "## Correlation matrix"
   ]
  },
  {
   "cell_type": "code",
   "execution_count": 60,
   "id": "313b0820",
   "metadata": {},
   "outputs": [
    {
     "data": {
      "text/html": [
       "<div>\n",
       "<style scoped>\n",
       "    .dataframe tbody tr th:only-of-type {\n",
       "        vertical-align: middle;\n",
       "    }\n",
       "\n",
       "    .dataframe tbody tr th {\n",
       "        vertical-align: top;\n",
       "    }\n",
       "\n",
       "    .dataframe thead th {\n",
       "        text-align: right;\n",
       "    }\n",
       "</style>\n",
       "<table border=\"1\" class=\"dataframe\">\n",
       "  <thead>\n",
       "    <tr style=\"text-align: right;\">\n",
       "      <th></th>\n",
       "      <th>Age</th>\n",
       "      <th>Height</th>\n",
       "      <th>Weight</th>\n",
       "      <th>FCVC</th>\n",
       "      <th>NCP</th>\n",
       "      <th>CH2O</th>\n",
       "      <th>FAF</th>\n",
       "      <th>TUE</th>\n",
       "    </tr>\n",
       "  </thead>\n",
       "  <tbody>\n",
       "    <tr>\n",
       "      <th>0</th>\n",
       "      <td>21</td>\n",
       "      <td>1.62</td>\n",
       "      <td>64.00</td>\n",
       "      <td>2.0</td>\n",
       "      <td>3.0</td>\n",
       "      <td>2.00</td>\n",
       "      <td>0.00</td>\n",
       "      <td>1.00</td>\n",
       "    </tr>\n",
       "    <tr>\n",
       "      <th>1</th>\n",
       "      <td>21</td>\n",
       "      <td>1.52</td>\n",
       "      <td>56.00</td>\n",
       "      <td>3.0</td>\n",
       "      <td>3.0</td>\n",
       "      <td>3.00</td>\n",
       "      <td>3.00</td>\n",
       "      <td>0.00</td>\n",
       "    </tr>\n",
       "    <tr>\n",
       "      <th>2</th>\n",
       "      <td>23</td>\n",
       "      <td>1.80</td>\n",
       "      <td>77.00</td>\n",
       "      <td>2.0</td>\n",
       "      <td>3.0</td>\n",
       "      <td>2.00</td>\n",
       "      <td>2.00</td>\n",
       "      <td>1.00</td>\n",
       "    </tr>\n",
       "    <tr>\n",
       "      <th>3</th>\n",
       "      <td>27</td>\n",
       "      <td>1.80</td>\n",
       "      <td>87.00</td>\n",
       "      <td>3.0</td>\n",
       "      <td>3.0</td>\n",
       "      <td>2.00</td>\n",
       "      <td>2.00</td>\n",
       "      <td>0.00</td>\n",
       "    </tr>\n",
       "    <tr>\n",
       "      <th>4</th>\n",
       "      <td>22</td>\n",
       "      <td>1.78</td>\n",
       "      <td>89.80</td>\n",
       "      <td>2.0</td>\n",
       "      <td>1.0</td>\n",
       "      <td>2.00</td>\n",
       "      <td>0.00</td>\n",
       "      <td>0.00</td>\n",
       "    </tr>\n",
       "    <tr>\n",
       "      <th>...</th>\n",
       "      <td>...</td>\n",
       "      <td>...</td>\n",
       "      <td>...</td>\n",
       "      <td>...</td>\n",
       "      <td>...</td>\n",
       "      <td>...</td>\n",
       "      <td>...</td>\n",
       "      <td>...</td>\n",
       "    </tr>\n",
       "    <tr>\n",
       "      <th>2106</th>\n",
       "      <td>20</td>\n",
       "      <td>1.71</td>\n",
       "      <td>131.41</td>\n",
       "      <td>3.0</td>\n",
       "      <td>3.0</td>\n",
       "      <td>1.73</td>\n",
       "      <td>1.68</td>\n",
       "      <td>0.91</td>\n",
       "    </tr>\n",
       "    <tr>\n",
       "      <th>2107</th>\n",
       "      <td>21</td>\n",
       "      <td>1.75</td>\n",
       "      <td>133.74</td>\n",
       "      <td>3.0</td>\n",
       "      <td>3.0</td>\n",
       "      <td>2.01</td>\n",
       "      <td>1.34</td>\n",
       "      <td>0.60</td>\n",
       "    </tr>\n",
       "    <tr>\n",
       "      <th>2108</th>\n",
       "      <td>22</td>\n",
       "      <td>1.75</td>\n",
       "      <td>133.69</td>\n",
       "      <td>3.0</td>\n",
       "      <td>3.0</td>\n",
       "      <td>2.05</td>\n",
       "      <td>1.41</td>\n",
       "      <td>0.65</td>\n",
       "    </tr>\n",
       "    <tr>\n",
       "      <th>2109</th>\n",
       "      <td>24</td>\n",
       "      <td>1.74</td>\n",
       "      <td>133.35</td>\n",
       "      <td>3.0</td>\n",
       "      <td>3.0</td>\n",
       "      <td>2.85</td>\n",
       "      <td>1.14</td>\n",
       "      <td>0.59</td>\n",
       "    </tr>\n",
       "    <tr>\n",
       "      <th>2110</th>\n",
       "      <td>23</td>\n",
       "      <td>1.74</td>\n",
       "      <td>133.47</td>\n",
       "      <td>3.0</td>\n",
       "      <td>3.0</td>\n",
       "      <td>2.86</td>\n",
       "      <td>1.03</td>\n",
       "      <td>0.71</td>\n",
       "    </tr>\n",
       "  </tbody>\n",
       "</table>\n",
       "<p>2111 rows × 8 columns</p>\n",
       "</div>"
      ],
      "text/plain": [
       "      Age  Height  Weight  FCVC  NCP  CH2O   FAF   TUE\n",
       "0      21    1.62   64.00   2.0  3.0  2.00  0.00  1.00\n",
       "1      21    1.52   56.00   3.0  3.0  3.00  3.00  0.00\n",
       "2      23    1.80   77.00   2.0  3.0  2.00  2.00  1.00\n",
       "3      27    1.80   87.00   3.0  3.0  2.00  2.00  0.00\n",
       "4      22    1.78   89.80   2.0  1.0  2.00  0.00  0.00\n",
       "...   ...     ...     ...   ...  ...   ...   ...   ...\n",
       "2106   20    1.71  131.41   3.0  3.0  1.73  1.68  0.91\n",
       "2107   21    1.75  133.74   3.0  3.0  2.01  1.34  0.60\n",
       "2108   22    1.75  133.69   3.0  3.0  2.05  1.41  0.65\n",
       "2109   24    1.74  133.35   3.0  3.0  2.85  1.14  0.59\n",
       "2110   23    1.74  133.47   3.0  3.0  2.86  1.03  0.71\n",
       "\n",
       "[2111 rows x 8 columns]"
      ]
     },
     "execution_count": 60,
     "metadata": {},
     "output_type": "execute_result"
    }
   ],
   "source": [
    "numerical_cols = df1.select_dtypes(include='number')\n",
    "numerical_cols"
   ]
  },
  {
   "cell_type": "markdown",
   "id": "a97d51e7",
   "metadata": {},
   "source": [
    "#### Plotting Correlation matrix:"
   ]
  },
  {
   "cell_type": "code",
   "execution_count": 62,
   "id": "31ee188a",
   "metadata": {},
   "outputs": [
    {
     "data": {
      "image/png": "[encoded data removed]",
      "text/plain": [
       "<Figure size 800x600 with 2 Axes>"
      ]
     },
     "metadata": {},
     "output_type": "display_data"
    }
   ],
   "source": [
    "correlation = numerical_cols.corr()\n",
    "# plotting the corelation matrix:\n",
    "plt.figure(figsize=(8,6))\n",
    "sns.heatmap(correlation,annot=True,cmap='coolwarm',fmt='.2f')\n",
    "plt.title('Correlation Matrix')\n",
    "plt.show()"
   ]
  },
  {
   "cell_type": "markdown",
   "id": "d3ccd584",
   "metadata": {},
   "source": [
    "## Data Preprocessing:"
   ]
  },
  {
   "cell_type": "markdown",
   "id": "5cc48ed2",
   "metadata": {},
   "source": [
    "Step 3: Data Preprocessing: Carefully, apply label encoding to categorical columns and\n",
    "standard scalar to continuous columns. Apply one-hot encoding to only those columns which\n",
    "need it. Split the data set after this, you can use any train test split."
   ]
  },
  {
   "cell_type": "markdown",
   "id": "098c26c9",
   "metadata": {},
   "source": [
    "### Applying Scaling Techniques:"
   ]
  },
  {
   "cell_type": "code",
   "execution_count": 63,
   "id": "11e9c644",
   "metadata": {},
   "outputs": [],
   "source": [
    "from sklearn.preprocessing import StandardScaler"
   ]
  },
  {
   "cell_type": "code",
   "execution_count": 66,
   "id": "f85a8f74",
   "metadata": {},
   "outputs": [],
   "source": [
    "standardscaler = StandardScaler()"
   ]
  },
  {
   "cell_type": "code",
   "execution_count": 85,
   "id": "e2476b55",
   "metadata": {},
   "outputs": [],
   "source": [
    "df1['Age'] = standardscaler.fit_transform(df1[['Age']]) \n",
    "df1['Height'] = standardscaler.fit_transform(df1[['Height']])\n",
    "df1['Weight'] = standardscaler.fit_transform(df1[['Weight']])\n",
    "df1['FCVC'] = standardscaler.fit_transform(df1[['FCVC']])\n",
    "df1['NCP'] = standardscaler.fit_transform(df1[['NCP']])\n",
    "df1['CH2O'] = standardscaler.fit_transform(df1[['CH2O']])\n",
    "df1['FAF'] = standardscaler.fit_transform(df1[['FAF']])\n",
    "df1['TUE'] = standardscaler.fit_transform(df1[['TUE']])"
   ]
  },
  {
   "cell_type": "markdown",
   "id": "c273a5fe",
   "metadata": {},
   "source": [
    "### Splitting the Datset:"
   ]
  },
  {
   "cell_type": "code",
   "execution_count": 86,
   "id": "43cec166",
   "metadata": {},
   "outputs": [
    {
     "data": {
      "text/html": [
       "<div>\n",
       "<style scoped>\n",
       "    .dataframe tbody tr th:only-of-type {\n",
       "        vertical-align: middle;\n",
       "    }\n",
       "\n",
       "    .dataframe tbody tr th {\n",
       "        vertical-align: top;\n",
       "    }\n",
       "\n",
       "    .dataframe thead th {\n",
       "        text-align: right;\n",
       "    }\n",
       "</style>\n",
       "<table border=\"1\" class=\"dataframe\">\n",
       "  <thead>\n",
       "    <tr style=\"text-align: right;\">\n",
       "      <th></th>\n",
       "      <th>Age</th>\n",
       "      <th>Gender</th>\n",
       "      <th>Height</th>\n",
       "      <th>Weight</th>\n",
       "      <th>CALC</th>\n",
       "      <th>FAVC</th>\n",
       "      <th>FCVC</th>\n",
       "      <th>NCP</th>\n",
       "      <th>SCC</th>\n",
       "      <th>SMOKE</th>\n",
       "      <th>CH2O</th>\n",
       "      <th>family_history_with_overweight</th>\n",
       "      <th>FAF</th>\n",
       "      <th>TUE</th>\n",
       "      <th>CAEC</th>\n",
       "      <th>MTRANS</th>\n",
       "      <th>NObeyesdad</th>\n",
       "    </tr>\n",
       "  </thead>\n",
       "  <tbody>\n",
       "    <tr>\n",
       "      <th>0</th>\n",
       "      <td>-0.522124</td>\n",
       "      <td>Female</td>\n",
       "      <td>-0.875589</td>\n",
       "      <td>-0.862558</td>\n",
       "      <td>no</td>\n",
       "      <td>no</td>\n",
       "      <td>-0.785019</td>\n",
       "      <td>0.404153</td>\n",
       "      <td>no</td>\n",
       "      <td>no</td>\n",
       "      <td>-0.013073</td>\n",
       "      <td>yes</td>\n",
       "      <td>-1.188039</td>\n",
       "      <td>0.561997</td>\n",
       "      <td>Sometimes</td>\n",
       "      <td>Public_Transportation</td>\n",
       "      <td>Normal_Weight</td>\n",
       "    </tr>\n",
       "    <tr>\n",
       "      <th>1</th>\n",
       "      <td>-0.522124</td>\n",
       "      <td>Female</td>\n",
       "      <td>-1.947599</td>\n",
       "      <td>-1.168077</td>\n",
       "      <td>Sometimes</td>\n",
       "      <td>no</td>\n",
       "      <td>1.088342</td>\n",
       "      <td>0.404153</td>\n",
       "      <td>yes</td>\n",
       "      <td>yes</td>\n",
       "      <td>1.618759</td>\n",
       "      <td>yes</td>\n",
       "      <td>2.339750</td>\n",
       "      <td>-1.080625</td>\n",
       "      <td>Sometimes</td>\n",
       "      <td>Public_Transportation</td>\n",
       "      <td>Normal_Weight</td>\n",
       "    </tr>\n",
       "  </tbody>\n",
       "</table>\n",
       "</div>"
      ],
      "text/plain": [
       "        Age  Gender    Height    Weight       CALC FAVC      FCVC       NCP  \\\n",
       "0 -0.522124  Female -0.875589 -0.862558         no   no -0.785019  0.404153   \n",
       "1 -0.522124  Female -1.947599 -1.168077  Sometimes   no  1.088342  0.404153   \n",
       "\n",
       "   SCC SMOKE      CH2O family_history_with_overweight       FAF       TUE  \\\n",
       "0   no    no -0.013073                            yes -1.188039  0.561997   \n",
       "1  yes   yes  1.618759                            yes  2.339750 -1.080625   \n",
       "\n",
       "        CAEC                 MTRANS     NObeyesdad  \n",
       "0  Sometimes  Public_Transportation  Normal_Weight  \n",
       "1  Sometimes  Public_Transportation  Normal_Weight  "
      ]
     },
     "execution_count": 86,
     "metadata": {},
     "output_type": "execute_result"
    }
   ],
   "source": [
    "df2 = df1.copy()\n",
    "df2.head(2)"
   ]
  },
  {
   "cell_type": "code",
   "execution_count": 87,
   "id": "c8c5d4b2",
   "metadata": {},
   "outputs": [],
   "source": [
    "X = df2.values[:,0:16]\n",
    "Y = df2.values[:,-1]"
   ]
  },
  {
   "cell_type": "code",
   "execution_count": 88,
   "id": "ac3ecf9c",
   "metadata": {},
   "outputs": [
    {
     "name": "stdout",
     "output_type": "stream",
     "text": [
      "[[-0.5221243865315548 'Female' -0.8755893428985058 ... 0.5619967502703084\n",
      "  'Sometimes' 'Public_Transportation']\n",
      " [-0.5221243865315548 'Female' -1.9475992778306654 ...\n",
      "  -1.0806246348952138 'Sometimes' 'Public_Transportation']\n",
      " [-0.20688898174867157 'Male' 1.0540285399793792 ... 0.5619967502703084\n",
      "  'Sometimes' 'Public_Transportation']\n",
      " ...\n",
      " [-0.2819093338497119 'Female' 0.5416721116779021 ...\n",
      "  -0.01901814511935881 'Sometimes' 'Public_Transportation']\n",
      " [0.007776241375518862 'Female' 0.404926524377956 ...\n",
      "  -0.11799101143973702 'Sometimes' 'Public_Transportation']\n",
      " [-0.10211907640975905 'Female' 0.39834438337747374 ...\n",
      "  0.09243207324273678 'Sometimes' 'Public_Transportation']]\n"
     ]
    }
   ],
   "source": [
    "print(X)"
   ]
  },
  {
   "cell_type": "code",
   "execution_count": 89,
   "id": "6ee0f307",
   "metadata": {},
   "outputs": [
    {
     "name": "stdout",
     "output_type": "stream",
     "text": [
      "['Normal_Weight' 'Normal_Weight' 'Normal_Weight' ... 'Obesity_Type_III'\n",
      " 'Obesity_Type_III' 'Obesity_Type_III']\n"
     ]
    }
   ],
   "source": [
    "print(Y)"
   ]
  },
  {
   "cell_type": "markdown",
   "id": "8aeee8d9",
   "metadata": {},
   "source": [
    "### Applying Encoding Techniques:"
   ]
  },
  {
   "cell_type": "code",
   "execution_count": 90,
   "id": "d0544f03",
   "metadata": {},
   "outputs": [],
   "source": [
    "from sklearn.preprocessing import OneHotEncoder, LabelEncoder"
   ]
  },
  {
   "cell_type": "code",
   "execution_count": 91,
   "id": "a4c27951",
   "metadata": {},
   "outputs": [],
   "source": [
    "labelencoder = LabelEncoder()"
   ]
  },
  {
   "cell_type": "code",
   "execution_count": 92,
   "id": "997a30b4",
   "metadata": {},
   "outputs": [],
   "source": [
    "X[:,1] = labelencoder.fit_transform(X[:,1])\n",
    "X[:,5] = labelencoder.fit_transform(X[:,5])\n",
    "X[:,8] = labelencoder.fit_transform(X[:,8])\n",
    "X[:,9] = labelencoder.fit_transform(X[:,9])\n",
    "X[:,11] = labelencoder.fit_transform(X[:,11])"
   ]
  },
  {
   "cell_type": "code",
   "execution_count": 93,
   "id": "26b54064",
   "metadata": {},
   "outputs": [],
   "source": [
    "onehotencoder = OneHotEncoder(categories='auto',sparse=False)"
   ]
  },
  {
   "cell_type": "code",
   "execution_count": 94,
   "id": "1bd821f6",
   "metadata": {},
   "outputs": [
    {
     "name": "stderr",
     "output_type": "stream",
     "text": [
      "C:\\Users\\ASAD COMPUTERS\\anaconda3\\Lib\\site-packages\\sklearn\\preprocessing\\_encoders.py:972: FutureWarning: `sparse` was renamed to `sparse_output` in version 1.2 and will be removed in 1.4. `sparse_output` is ignored unless you leave `sparse` to its default value.\n",
      "  warnings.warn(\n"
     ]
    }
   ],
   "source": [
    "cols = [4,14,15]\n",
    "#\n",
    "X_encoded = onehotencoder.fit_transform(X[:,cols])\n",
    "X = np.delete(X,cols,axis=1)\n",
    "X = np.concatenate((X,X_encoded),axis=1)"
   ]
  },
  {
   "cell_type": "code",
   "execution_count": 95,
   "id": "1db339ab",
   "metadata": {},
   "outputs": [
    {
     "name": "stdout",
     "output_type": "stream",
     "text": [
      "[[-0.5221243865315548 0 -0.8755893428985058 ... 0.0 1.0 0.0]\n",
      " [-0.5221243865315548 0 -1.9475992778306654 ... 0.0 1.0 0.0]\n",
      " [-0.20688898174867157 1 1.0540285399793792 ... 0.0 1.0 0.0]\n",
      " ...\n",
      " [-0.2819093338497119 0 0.5416721116779021 ... 0.0 1.0 0.0]\n",
      " [0.007776241375518862 0 0.404926524377956 ... 0.0 1.0 0.0]\n",
      " [-0.10211907640975905 0 0.39834438337747374 ... 0.0 1.0 0.0]]\n"
     ]
    }
   ],
   "source": [
    "print(X)"
   ]
  },
  {
   "cell_type": "markdown",
   "id": "4c0dfffe",
   "metadata": {},
   "source": [
    "#### For Target Variable:"
   ]
  },
  {
   "cell_type": "code",
   "execution_count": null,
   "id": "a005836d",
   "metadata": {},
   "outputs": [],
   "source": [
    "labelencoder.fit_transform(Y)"
   ]
  },
  {
   "cell_type": "markdown",
   "id": "4281a09f",
   "metadata": {},
   "source": [
    "#### Tuple Unpacking:"
   ]
  },
  {
   "cell_type": "code",
   "execution_count": 97,
   "id": "a38bfeca",
   "metadata": {},
   "outputs": [],
   "source": [
    "from sklearn.model_selection import train_test_split"
   ]
  },
  {
   "cell_type": "code",
   "execution_count": 98,
   "id": "656aa86f",
   "metadata": {},
   "outputs": [],
   "source": [
    "X_train, X_test, y_train, y_test = train_test_split(X,Y,test_size=0.2,random_state=42)"
   ]
  },
  {
   "cell_type": "markdown",
   "id": "f958397f",
   "metadata": {},
   "source": [
    "#### Decission Tree Classifier:"
   ]
  },
  {
   "cell_type": "code",
   "execution_count": 99,
   "id": "fcbf76fb",
   "metadata": {},
   "outputs": [],
   "source": [
    "from sklearn.tree import DecisionTreeClassifier\n",
    "from sklearn.metrics import accuracy_score\n",
    "from sklearn import tree"
   ]
  },
  {
   "cell_type": "code",
   "execution_count": 100,
   "id": "ae7dd846",
   "metadata": {},
   "outputs": [],
   "source": [
    "clf_entropy = DecisionTreeClassifier(criterion = 'entropy', random_state = 42, max_depth = 3, min_samples_leaf = 2)"
   ]
  },
  {
   "cell_type": "code",
   "execution_count": 101,
   "id": "521643e5",
   "metadata": {},
   "outputs": [
    {
     "data": {
      "text/html": [
       "<style>#sk-container-id-1 {color: black;}#sk-container-id-1 pre{padding: 0;}#sk-container-id-1 div.sk-toggleable {background-color: white;}#sk-container-id-1 label.sk-toggleable__label {cursor: pointer;display: block;width: 100%;margin-bottom: 0;padding: 0.3em;box-sizing: border-box;text-align: center;}#sk-container-id-1 label.sk-toggleable__label-arrow:before {content: \"▸\";float: left;margin-right: 0.25em;color: #696969;}#sk-container-id-1 label.sk-toggleable__label-arrow:hover:before {color: black;}#sk-container-id-1 div.sk-estimator:hover label.sk-toggleable__label-arrow:before {color: black;}#sk-container-id-1 div.sk-toggleable__content {max-height: 0;max-width: 0;overflow: hidden;text-align: left;background-color: #f0f8ff;}#sk-container-id-1 div.sk-toggleable__content pre {margin: 0.2em;color: black;border-radius: 0.25em;background-color: #f0f8ff;}#sk-container-id-1 input.sk-toggleable__control:checked~div.sk-toggleable__content {max-height: 200px;max-width: 100%;overflow: auto;}#sk-container-id-1 input.sk-toggleable__control:checked~label.sk-toggleable__label-arrow:before {content: \"▾\";}#sk-container-id-1 div.sk-estimator input.sk-toggleable__control:checked~label.sk-toggleable__label {background-color: #d4ebff;}#sk-container-id-1 div.sk-label input.sk-toggleable__control:checked~label.sk-toggleable__label {background-color: #d4ebff;}#sk-container-id-1 input.sk-hidden--visually {border: 0;clip: rect(1px 1px 1px 1px);clip: rect(1px, 1px, 1px, 1px);height: 1px;margin: -1px;overflow: hidden;padding: 0;position: absolute;width: 1px;}#sk-container-id-1 div.sk-estimator {font-family: monospace;background-color: #f0f8ff;border: 1px dotted black;border-radius: 0.25em;box-sizing: border-box;margin-bottom: 0.5em;}#sk-container-id-1 div.sk-estimator:hover {background-color: #d4ebff;}#sk-container-id-1 div.sk-parallel-item::after {content: \"\";width: 100%;border-bottom: 1px solid gray;flex-grow: 1;}#sk-container-id-1 div.sk-label:hover label.sk-toggleable__label {background-color: #d4ebff;}#sk-container-id-1 div.sk-serial::before {content: \"\";position: absolute;border-left: 1px solid gray;box-sizing: border-box;top: 0;bottom: 0;left: 50%;z-index: 0;}#sk-container-id-1 div.sk-serial {display: flex;flex-direction: column;align-items: center;background-color: white;padding-right: 0.2em;padding-left: 0.2em;position: relative;}#sk-container-id-1 div.sk-item {position: relative;z-index: 1;}#sk-container-id-1 div.sk-parallel {display: flex;align-items: stretch;justify-content: center;background-color: white;position: relative;}#sk-container-id-1 div.sk-item::before, #sk-container-id-1 div.sk-parallel-item::before {content: \"\";position: absolute;border-left: 1px solid gray;box-sizing: border-box;top: 0;bottom: 0;left: 50%;z-index: -1;}#sk-container-id-1 div.sk-parallel-item {display: flex;flex-direction: column;z-index: 1;position: relative;background-color: white;}#sk-container-id-1 div.sk-parallel-item:first-child::after {align-self: flex-end;width: 50%;}#sk-container-id-1 div.sk-parallel-item:last-child::after {align-self: flex-start;width: 50%;}#sk-container-id-1 div.sk-parallel-item:only-child::after {width: 0;}#sk-container-id-1 div.sk-dashed-wrapped {border: 1px dashed gray;margin: 0 0.4em 0.5em 0.4em;box-sizing: border-box;padding-bottom: 0.4em;background-color: white;}#sk-container-id-1 div.sk-label label {font-family: monospace;font-weight: bold;display: inline-block;line-height: 1.2em;}#sk-container-id-1 div.sk-label-container {text-align: center;}#sk-container-id-1 div.sk-container {/* jupyter's `normalize.less` sets `[hidden] { display: none; }` but bootstrap.min.css set `[hidden] { display: none !important; }` so we also need the `!important` here to be able to override the default hidden behavior on the sphinx rendered scikit-learn.org. See: https://github.com/scikit-learn/scikit-learn/issues/21755 */display: inline-block !important;position: relative;}#sk-container-id-1 div.sk-text-repr-fallback {display: none;}</style><div id=\"sk-container-id-1\" class=\"sk-top-container\"><div class=\"sk-text-repr-fallback\"><pre>DecisionTreeClassifier(criterion=&#x27;entropy&#x27;, max_depth=3, min_samples_leaf=2,\n",
       "                       random_state=42)</pre><b>In a Jupyter environment, please rerun this cell to show the HTML representation or trust the notebook. <br />On GitHub, the HTML representation is unable to render, please try loading this page with nbviewer.org.</b></div><div class=\"sk-container\" hidden><div class=\"sk-item\"><div class=\"sk-estimator sk-toggleable\"><input class=\"sk-toggleable__control sk-hidden--visually\" id=\"sk-estimator-id-1\" type=\"checkbox\" checked><label for=\"sk-estimator-id-1\" class=\"sk-toggleable__label sk-toggleable__label-arrow\">DecisionTreeClassifier</label><div class=\"sk-toggleable__content\"><pre>DecisionTreeClassifier(criterion=&#x27;entropy&#x27;, max_depth=3, min_samples_leaf=2,\n",
       "                       random_state=42)</pre></div></div></div></div></div>"
      ],
      "text/plain": [
       "DecisionTreeClassifier(criterion='entropy', max_depth=3, min_samples_leaf=2,\n",
       "                       random_state=42)"
      ]
     },
     "execution_count": 101,
     "metadata": {},
     "output_type": "execute_result"
    }
   ],
   "source": [
    "clf_entropy.fit(X_train,y_train)"
   ]
  },
  {
   "cell_type": "code",
   "execution_count": 102,
   "id": "cd42521c",
   "metadata": {},
   "outputs": [],
   "source": [
    "y_pred_en = clf_entropy.predict(X_test)"
   ]
  },
  {
   "cell_type": "code",
   "execution_count": 103,
   "id": "8c42b827",
   "metadata": {},
   "outputs": [
    {
     "name": "stdout",
     "output_type": "stream",
     "text": [
      "['Insufficient_Weight' 'Obesity_Type_III' 'Insufficient_Weight'\n",
      " 'Normal_Weight' 'Overweight_Level_I' 'Insufficient_Weight'\n",
      " 'Obesity_Type_II' 'Overweight_Level_I' 'Overweight_Level_II'\n",
      " 'Insufficient_Weight' 'Overweight_Level_II' 'Obesity_Type_III'\n",
      " 'Obesity_Type_I' 'Obesity_Type_II' 'Obesity_Type_III'\n",
      " 'Overweight_Level_II' 'Obesity_Type_III' 'Obesity_Type_I'\n",
      " 'Obesity_Type_I' 'Overweight_Level_II' 'Obesity_Type_II'\n",
      " 'Overweight_Level_I' 'Obesity_Type_III' 'Obesity_Type_I' 'Normal_Weight'\n",
      " 'Overweight_Level_I' 'Overweight_Level_II' 'Obesity_Type_III'\n",
      " 'Obesity_Type_III' 'Insufficient_Weight' 'Obesity_Type_III'\n",
      " 'Overweight_Level_I' 'Overweight_Level_II' 'Normal_Weight'\n",
      " 'Normal_Weight' 'Obesity_Type_III' 'Obesity_Type_I' 'Insufficient_Weight'\n",
      " 'Normal_Weight' 'Overweight_Level_I' 'Normal_Weight' 'Obesity_Type_II'\n",
      " 'Overweight_Level_I' 'Overweight_Level_II' 'Overweight_Level_II'\n",
      " 'Insufficient_Weight' 'Obesity_Type_I' 'Normal_Weight'\n",
      " 'Overweight_Level_II' 'Obesity_Type_II' 'Overweight_Level_I'\n",
      " 'Normal_Weight' 'Overweight_Level_I' 'Overweight_Level_I'\n",
      " 'Insufficient_Weight' 'Overweight_Level_II' 'Obesity_Type_II'\n",
      " 'Obesity_Type_II' 'Overweight_Level_II' 'Obesity_Type_I'\n",
      " 'Overweight_Level_I' 'Obesity_Type_III' 'Overweight_Level_II'\n",
      " 'Insufficient_Weight' 'Obesity_Type_II' 'Overweight_Level_II'\n",
      " 'Overweight_Level_I' 'Obesity_Type_III' 'Insufficient_Weight'\n",
      " 'Normal_Weight' 'Overweight_Level_II' 'Overweight_Level_II'\n",
      " 'Normal_Weight' 'Insufficient_Weight' 'Overweight_Level_I'\n",
      " 'Obesity_Type_II' 'Obesity_Type_II' 'Overweight_Level_I'\n",
      " 'Obesity_Type_III' 'Obesity_Type_II' 'Normal_Weight'\n",
      " 'Overweight_Level_II' 'Obesity_Type_I' 'Obesity_Type_I'\n",
      " 'Overweight_Level_II' 'Overweight_Level_II' 'Normal_Weight'\n",
      " 'Overweight_Level_II' 'Normal_Weight' 'Overweight_Level_II'\n",
      " 'Overweight_Level_II' 'Obesity_Type_I' 'Insufficient_Weight'\n",
      " 'Overweight_Level_I' 'Overweight_Level_II' 'Insufficient_Weight'\n",
      " 'Overweight_Level_I' 'Overweight_Level_II' 'Overweight_Level_II'\n",
      " 'Obesity_Type_II' 'Obesity_Type_I' 'Overweight_Level_II'\n",
      " 'Obesity_Type_III' 'Obesity_Type_I' 'Overweight_Level_I'\n",
      " 'Overweight_Level_I' 'Normal_Weight' 'Obesity_Type_III'\n",
      " 'Obesity_Type_III' 'Obesity_Type_II' 'Obesity_Type_I'\n",
      " 'Overweight_Level_I' 'Obesity_Type_I' 'Normal_Weight'\n",
      " 'Insufficient_Weight' 'Overweight_Level_II' 'Overweight_Level_II'\n",
      " 'Obesity_Type_II' 'Overweight_Level_II' 'Overweight_Level_I'\n",
      " 'Obesity_Type_III' 'Obesity_Type_II' 'Overweight_Level_II'\n",
      " 'Overweight_Level_II' 'Overweight_Level_I' 'Obesity_Type_I'\n",
      " 'Overweight_Level_II' 'Overweight_Level_II' 'Obesity_Type_III'\n",
      " 'Obesity_Type_II' 'Obesity_Type_III' 'Obesity_Type_II'\n",
      " 'Overweight_Level_I' 'Overweight_Level_II' 'Overweight_Level_II'\n",
      " 'Obesity_Type_III' 'Insufficient_Weight' 'Obesity_Type_III'\n",
      " 'Normal_Weight' 'Overweight_Level_II' 'Overweight_Level_I'\n",
      " 'Overweight_Level_II' 'Insufficient_Weight' 'Insufficient_Weight'\n",
      " 'Insufficient_Weight' 'Obesity_Type_II' 'Obesity_Type_II'\n",
      " 'Obesity_Type_III' 'Insufficient_Weight' 'Obesity_Type_I' 'Normal_Weight'\n",
      " 'Insufficient_Weight' 'Normal_Weight' 'Obesity_Type_II'\n",
      " 'Overweight_Level_II' 'Overweight_Level_I' 'Overweight_Level_II'\n",
      " 'Overweight_Level_I' 'Insufficient_Weight' 'Normal_Weight'\n",
      " 'Overweight_Level_I' 'Insufficient_Weight' 'Overweight_Level_II'\n",
      " 'Normal_Weight' 'Obesity_Type_II' 'Insufficient_Weight' 'Obesity_Type_II'\n",
      " 'Overweight_Level_I' 'Normal_Weight' 'Overweight_Level_I'\n",
      " 'Overweight_Level_I' 'Overweight_Level_II' 'Obesity_Type_II'\n",
      " 'Obesity_Type_III' 'Overweight_Level_II' 'Overweight_Level_I'\n",
      " 'Overweight_Level_II' 'Overweight_Level_II' 'Obesity_Type_I'\n",
      " 'Overweight_Level_I' 'Normal_Weight' 'Obesity_Type_II'\n",
      " 'Insufficient_Weight' 'Normal_Weight' 'Obesity_Type_II' 'Obesity_Type_I'\n",
      " 'Overweight_Level_I' 'Obesity_Type_III' 'Obesity_Type_II'\n",
      " 'Obesity_Type_I' 'Normal_Weight' 'Obesity_Type_III' 'Insufficient_Weight'\n",
      " 'Overweight_Level_I' 'Obesity_Type_III' 'Overweight_Level_I'\n",
      " 'Obesity_Type_II' 'Overweight_Level_II' 'Obesity_Type_III'\n",
      " 'Overweight_Level_I' 'Obesity_Type_II' 'Obesity_Type_I'\n",
      " 'Obesity_Type_III' 'Obesity_Type_III' 'Normal_Weight' 'Obesity_Type_III'\n",
      " 'Overweight_Level_I' 'Overweight_Level_II' 'Obesity_Type_I'\n",
      " 'Obesity_Type_III' 'Overweight_Level_I' 'Overweight_Level_II'\n",
      " 'Normal_Weight' 'Obesity_Type_I' 'Obesity_Type_I' 'Insufficient_Weight'\n",
      " 'Overweight_Level_I' 'Obesity_Type_II' 'Obesity_Type_II'\n",
      " 'Obesity_Type_II' 'Obesity_Type_III' 'Overweight_Level_I'\n",
      " 'Obesity_Type_II' 'Overweight_Level_II' 'Obesity_Type_II'\n",
      " 'Obesity_Type_I' 'Normal_Weight' 'Obesity_Type_III' 'Overweight_Level_I'\n",
      " 'Overweight_Level_II' 'Overweight_Level_I' 'Obesity_Type_III'\n",
      " 'Overweight_Level_I' 'Overweight_Level_II' 'Insufficient_Weight'\n",
      " 'Overweight_Level_II' 'Overweight_Level_II' 'Overweight_Level_II'\n",
      " 'Obesity_Type_I' 'Normal_Weight' 'Overweight_Level_II'\n",
      " 'Overweight_Level_II' 'Overweight_Level_I' 'Obesity_Type_I'\n",
      " 'Obesity_Type_I' 'Obesity_Type_I' 'Overweight_Level_I' 'Obesity_Type_I'\n",
      " 'Overweight_Level_II' 'Overweight_Level_I' 'Overweight_Level_I'\n",
      " 'Obesity_Type_I' 'Insufficient_Weight' 'Overweight_Level_II'\n",
      " 'Overweight_Level_I' 'Overweight_Level_II' 'Overweight_Level_II'\n",
      " 'Obesity_Type_II' 'Overweight_Level_II' 'Overweight_Level_I'\n",
      " 'Obesity_Type_III' 'Obesity_Type_III' 'Overweight_Level_II'\n",
      " 'Obesity_Type_I' 'Overweight_Level_II' 'Obesity_Type_III'\n",
      " 'Obesity_Type_III' 'Normal_Weight' 'Overweight_Level_I'\n",
      " 'Obesity_Type_III' 'Obesity_Type_II' 'Obesity_Type_III'\n",
      " 'Overweight_Level_II' 'Overweight_Level_II' 'Obesity_Type_II'\n",
      " 'Overweight_Level_II' 'Obesity_Type_II' 'Obesity_Type_III'\n",
      " 'Obesity_Type_I' 'Insufficient_Weight' 'Normal_Weight'\n",
      " 'Overweight_Level_I' 'Overweight_Level_II' 'Obesity_Type_III'\n",
      " 'Obesity_Type_III' 'Overweight_Level_I' 'Overweight_Level_II'\n",
      " 'Overweight_Level_II' 'Insufficient_Weight' 'Obesity_Type_II'\n",
      " 'Obesity_Type_I' 'Overweight_Level_II' 'Insufficient_Weight'\n",
      " 'Obesity_Type_II' 'Normal_Weight' 'Overweight_Level_II' 'Obesity_Type_II'\n",
      " 'Obesity_Type_II' 'Overweight_Level_II' 'Overweight_Level_II'\n",
      " 'Normal_Weight' 'Overweight_Level_I' 'Insufficient_Weight'\n",
      " 'Insufficient_Weight' 'Overweight_Level_I' 'Overweight_Level_I'\n",
      " 'Overweight_Level_II' 'Overweight_Level_II' 'Overweight_Level_II'\n",
      " 'Obesity_Type_III' 'Overweight_Level_I' 'Obesity_Type_II'\n",
      " 'Insufficient_Weight' 'Obesity_Type_III' 'Overweight_Level_I'\n",
      " 'Overweight_Level_II' 'Overweight_Level_II' 'Obesity_Type_III'\n",
      " 'Overweight_Level_II' 'Overweight_Level_II' 'Normal_Weight'\n",
      " 'Normal_Weight' 'Obesity_Type_III' 'Insufficient_Weight'\n",
      " 'Overweight_Level_I' 'Obesity_Type_III' 'Overweight_Level_II'\n",
      " 'Overweight_Level_II' 'Obesity_Type_III' 'Normal_Weight' 'Normal_Weight'\n",
      " 'Overweight_Level_I' 'Obesity_Type_II' 'Obesity_Type_III'\n",
      " 'Obesity_Type_I' 'Overweight_Level_II' 'Overweight_Level_II'\n",
      " 'Insufficient_Weight' 'Normal_Weight' 'Insufficient_Weight'\n",
      " 'Obesity_Type_I' 'Obesity_Type_III' 'Overweight_Level_II'\n",
      " 'Overweight_Level_II' 'Obesity_Type_III' 'Obesity_Type_II'\n",
      " 'Overweight_Level_I' 'Obesity_Type_I' 'Overweight_Level_I'\n",
      " 'Overweight_Level_II' 'Overweight_Level_II' 'Obesity_Type_III'\n",
      " 'Overweight_Level_II' 'Normal_Weight' 'Normal_Weight'\n",
      " 'Overweight_Level_I' 'Overweight_Level_II' 'Overweight_Level_II'\n",
      " 'Overweight_Level_II' 'Overweight_Level_II' 'Overweight_Level_II'\n",
      " 'Obesity_Type_II' 'Overweight_Level_II' 'Obesity_Type_II'\n",
      " 'Obesity_Type_II' 'Obesity_Type_III' 'Overweight_Level_II'\n",
      " 'Overweight_Level_II' 'Overweight_Level_I' 'Obesity_Type_III'\n",
      " 'Insufficient_Weight' 'Obesity_Type_I' 'Normal_Weight' 'Obesity_Type_I'\n",
      " 'Overweight_Level_II' 'Overweight_Level_I' 'Insufficient_Weight'\n",
      " 'Normal_Weight' 'Overweight_Level_II' 'Overweight_Level_II'\n",
      " 'Overweight_Level_II' 'Obesity_Type_I' 'Overweight_Level_I'\n",
      " 'Normal_Weight' 'Obesity_Type_III' 'Overweight_Level_I'\n",
      " 'Obesity_Type_III' 'Obesity_Type_III' 'Overweight_Level_I'\n",
      " 'Overweight_Level_II' 'Obesity_Type_II' 'Overweight_Level_I'\n",
      " 'Obesity_Type_III' 'Overweight_Level_II' 'Obesity_Type_II'\n",
      " 'Overweight_Level_I' 'Insufficient_Weight' 'Obesity_Type_III'\n",
      " 'Overweight_Level_II' 'Obesity_Type_III' 'Overweight_Level_I'\n",
      " 'Normal_Weight' 'Overweight_Level_I' 'Overweight_Level_II'\n",
      " 'Overweight_Level_II' 'Normal_Weight' 'Normal_Weight' 'Obesity_Type_III'\n",
      " 'Normal_Weight' 'Obesity_Type_III' 'Obesity_Type_I' 'Overweight_Level_I'\n",
      " 'Normal_Weight' 'Overweight_Level_I' 'Obesity_Type_III'\n",
      " 'Insufficient_Weight' 'Overweight_Level_I' 'Obesity_Type_I'\n",
      " 'Overweight_Level_II' 'Obesity_Type_I' 'Overweight_Level_I'\n",
      " 'Obesity_Type_II' 'Overweight_Level_II']\n"
     ]
    }
   ],
   "source": [
    "print(y_pred_en)"
   ]
  },
  {
   "cell_type": "code",
   "execution_count": 104,
   "id": "70bfbd57",
   "metadata": {},
   "outputs": [
    {
     "name": "stdout",
     "output_type": "stream",
     "text": [
      "Accuracy Score is : 62.88416075650118\n"
     ]
    }
   ],
   "source": [
    "print('Accuracy Score is :',accuracy_score(y_test,y_pred_en)*100)"
   ]
  },
  {
   "cell_type": "markdown",
   "id": "66610787",
   "metadata": {},
   "source": [
    "#### Support Vector Machine:"
   ]
  },
  {
   "cell_type": "code",
   "execution_count": 105,
   "id": "02abd5db",
   "metadata": {},
   "outputs": [],
   "source": [
    "from sklearn.svm import SVC"
   ]
  },
  {
   "cell_type": "code",
   "execution_count": 106,
   "id": "dd3687b9",
   "metadata": {},
   "outputs": [],
   "source": [
    "svm_classifier = SVC(kernel='rbf',random_state=42,gamma='scale',C=1.0)"
   ]
  },
  {
   "cell_type": "code",
   "execution_count": 107,
   "id": "16b34065",
   "metadata": {},
   "outputs": [
    {
     "data": {
      "text/html": [
       "<style>#sk-container-id-2 {color: black;}#sk-container-id-2 pre{padding: 0;}#sk-container-id-2 div.sk-toggleable {background-color: white;}#sk-container-id-2 label.sk-toggleable__label {cursor: pointer;display: block;width: 100%;margin-bottom: 0;padding: 0.3em;box-sizing: border-box;text-align: center;}#sk-container-id-2 label.sk-toggleable__label-arrow:before {content: \"▸\";float: left;margin-right: 0.25em;color: #696969;}#sk-container-id-2 label.sk-toggleable__label-arrow:hover:before {color: black;}#sk-container-id-2 div.sk-estimator:hover label.sk-toggleable__label-arrow:before {color: black;}#sk-container-id-2 div.sk-toggleable__content {max-height: 0;max-width: 0;overflow: hidden;text-align: left;background-color: #f0f8ff;}#sk-container-id-2 div.sk-toggleable__content pre {margin: 0.2em;color: black;border-radius: 0.25em;background-color: #f0f8ff;}#sk-container-id-2 input.sk-toggleable__control:checked~div.sk-toggleable__content {max-height: 200px;max-width: 100%;overflow: auto;}#sk-container-id-2 input.sk-toggleable__control:checked~label.sk-toggleable__label-arrow:before {content: \"▾\";}#sk-container-id-2 div.sk-estimator input.sk-toggleable__control:checked~label.sk-toggleable__label {background-color: #d4ebff;}#sk-container-id-2 div.sk-label input.sk-toggleable__control:checked~label.sk-toggleable__label {background-color: #d4ebff;}#sk-container-id-2 input.sk-hidden--visually {border: 0;clip: rect(1px 1px 1px 1px);clip: rect(1px, 1px, 1px, 1px);height: 1px;margin: -1px;overflow: hidden;padding: 0;position: absolute;width: 1px;}#sk-container-id-2 div.sk-estimator {font-family: monospace;background-color: #f0f8ff;border: 1px dotted black;border-radius: 0.25em;box-sizing: border-box;margin-bottom: 0.5em;}#sk-container-id-2 div.sk-estimator:hover {background-color: #d4ebff;}#sk-container-id-2 div.sk-parallel-item::after {content: \"\";width: 100%;border-bottom: 1px solid gray;flex-grow: 1;}#sk-container-id-2 div.sk-label:hover label.sk-toggleable__label {background-color: #d4ebff;}#sk-container-id-2 div.sk-serial::before {content: \"\";position: absolute;border-left: 1px solid gray;box-sizing: border-box;top: 0;bottom: 0;left: 50%;z-index: 0;}#sk-container-id-2 div.sk-serial {display: flex;flex-direction: column;align-items: center;background-color: white;padding-right: 0.2em;padding-left: 0.2em;position: relative;}#sk-container-id-2 div.sk-item {position: relative;z-index: 1;}#sk-container-id-2 div.sk-parallel {display: flex;align-items: stretch;justify-content: center;background-color: white;position: relative;}#sk-container-id-2 div.sk-item::before, #sk-container-id-2 div.sk-parallel-item::before {content: \"\";position: absolute;border-left: 1px solid gray;box-sizing: border-box;top: 0;bottom: 0;left: 50%;z-index: -1;}#sk-container-id-2 div.sk-parallel-item {display: flex;flex-direction: column;z-index: 1;position: relative;background-color: white;}#sk-container-id-2 div.sk-parallel-item:first-child::after {align-self: flex-end;width: 50%;}#sk-container-id-2 div.sk-parallel-item:last-child::after {align-self: flex-start;width: 50%;}#sk-container-id-2 div.sk-parallel-item:only-child::after {width: 0;}#sk-container-id-2 div.sk-dashed-wrapped {border: 1px dashed gray;margin: 0 0.4em 0.5em 0.4em;box-sizing: border-box;padding-bottom: 0.4em;background-color: white;}#sk-container-id-2 div.sk-label label {font-family: monospace;font-weight: bold;display: inline-block;line-height: 1.2em;}#sk-container-id-2 div.sk-label-container {text-align: center;}#sk-container-id-2 div.sk-container {/* jupyter's `normalize.less` sets `[hidden] { display: none; }` but bootstrap.min.css set `[hidden] { display: none !important; }` so we also need the `!important` here to be able to override the default hidden behavior on the sphinx rendered scikit-learn.org. See: https://github.com/scikit-learn/scikit-learn/issues/21755 */display: inline-block !important;position: relative;}#sk-container-id-2 div.sk-text-repr-fallback {display: none;}</style><div id=\"sk-container-id-2\" class=\"sk-top-container\"><div class=\"sk-text-repr-fallback\"><pre>SVC(random_state=42)</pre><b>In a Jupyter environment, please rerun this cell to show the HTML representation or trust the notebook. <br />On GitHub, the HTML representation is unable to render, please try loading this page with nbviewer.org.</b></div><div class=\"sk-container\" hidden><div class=\"sk-item\"><div class=\"sk-estimator sk-toggleable\"><input class=\"sk-toggleable__control sk-hidden--visually\" id=\"sk-estimator-id-2\" type=\"checkbox\" checked><label for=\"sk-estimator-id-2\" class=\"sk-toggleable__label sk-toggleable__label-arrow\">SVC</label><div class=\"sk-toggleable__content\"><pre>SVC(random_state=42)</pre></div></div></div></div></div>"
      ],
      "text/plain": [
       "SVC(random_state=42)"
      ]
     },
     "execution_count": 107,
     "metadata": {},
     "output_type": "execute_result"
    }
   ],
   "source": [
    "svm_classifier.fit(X_train,y_train)"
   ]
  },
  {
   "cell_type": "code",
   "execution_count": 108,
   "id": "56f30445",
   "metadata": {},
   "outputs": [],
   "source": [
    "y_pred = svm_classifier.predict(X_test)"
   ]
  },
  {
   "cell_type": "code",
   "execution_count": 109,
   "id": "af8a075f",
   "metadata": {},
   "outputs": [
    {
     "name": "stdout",
     "output_type": "stream",
     "text": [
      "Accuracy Score is:  93.3806146572104\n"
     ]
    }
   ],
   "source": [
    "print('Accuracy Score is: ',accuracy_score(y_pred,y_test)*100)"
   ]
  },
  {
   "cell_type": "markdown",
   "id": "b90b8b12",
   "metadata": {},
   "source": [
    "#### Evaluating Algorithms:"
   ]
  },
  {
   "cell_type": "code",
   "execution_count": 110,
   "id": "8ee7f7f9",
   "metadata": {},
   "outputs": [],
   "source": [
    "from sklearn.metrics import classification_report\n",
    "from sklearn.metrics import f1_score\n",
    "from sklearn.metrics import confusion_matrix"
   ]
  },
  {
   "cell_type": "code",
   "execution_count": 111,
   "id": "2da20f9f",
   "metadata": {},
   "outputs": [
    {
     "name": "stdout",
     "output_type": "stream",
     "text": [
      "[[54  2  0  0  0  0  0]\n",
      " [ 2 54  1  0  0  4  1]\n",
      " [ 0  0 76  2  0  0  0]\n",
      " [ 0  0  1 57  0  0  0]\n",
      " [ 0  0  0  0 63  0  0]\n",
      " [ 0  8  0  0  0 47  1]\n",
      " [ 0  0  1  0  0  5 44]]\n"
     ]
    }
   ],
   "source": [
    "cm = confusion_matrix(y_test,y_pred)\n",
    "print(cm)"
   ]
  },
  {
   "cell_type": "code",
   "execution_count": 112,
   "id": "1dceb7bd",
   "metadata": {},
   "outputs": [
    {
     "name": "stdout",
     "output_type": "stream",
     "text": [
      "                     precision    recall  f1-score   support\n",
      "\n",
      "Insufficient_Weight       0.96      0.96      0.96        56\n",
      "      Normal_Weight       0.84      0.87      0.86        62\n",
      "     Obesity_Type_I       0.96      0.97      0.97        78\n",
      "    Obesity_Type_II       0.97      0.98      0.97        58\n",
      "   Obesity_Type_III       1.00      1.00      1.00        63\n",
      " Overweight_Level_I       0.84      0.84      0.84        56\n",
      "Overweight_Level_II       0.96      0.88      0.92        50\n",
      "\n",
      "           accuracy                           0.93       423\n",
      "          macro avg       0.93      0.93      0.93       423\n",
      "       weighted avg       0.93      0.93      0.93       423\n",
      "\n"
     ]
    }
   ],
   "source": [
    "cr = classification_report(y_test,y_pred)\n",
    "print(cr)"
   ]
  },
  {
   "cell_type": "code",
   "execution_count": null,
   "id": "7a06a394",
   "metadata": {},
   "outputs": [],
   "source": []
  },
  {
   "cell_type": "code",
   "execution_count": null,
   "id": "ab5facb0",
   "metadata": {},
   "outputs": [],
   "source": []
  }
 ],
 "metadata": {
  "kernelspec": {
   "display_name": "Python 3 (ipykernel)",
   "language": "python",
   "name": "python3"
  },
  "language_info": {
   "codemirror_mode": {
    "name": "ipython",
    "version": 3
   },
   "file_extension": ".py",
   "mimetype": "text/x-python",
   "name": "python",
   "nbconvert_exporter": "python",
   "pygments_lexer": "ipython3",
   "version": "3.11.5"
  }
 },
 "nbformat": 4,
 "nbformat_minor": 5
}
